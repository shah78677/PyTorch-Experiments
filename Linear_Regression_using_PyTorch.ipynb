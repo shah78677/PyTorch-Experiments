{
  "nbformat": 4,
  "nbformat_minor": 0,
  "metadata": {
    "colab": {
      "name": "Linear Regression using PyTorch.ipynb",
      "provenance": [],
      "collapsed_sections": []
    },
    "kernelspec": {
      "name": "python3",
      "display_name": "Python 3"
    }
  },
  "cells": [
    {
      "cell_type": "code",
      "metadata": {
        "id": "X8HivdoLCm8V",
        "colab_type": "code",
        "outputId": "a12f78f3-8de7-476d-b5ef-fc652728be78",
        "colab": {
          "base_uri": "https://localhost:8080/",
          "height": 51
        }
      },
      "source": [
        "!pip3 install torch"
      ],
      "execution_count": 9,
      "outputs": [
        {
          "output_type": "stream",
          "text": [
            "Requirement already satisfied: torch in /usr/local/lib/python3.6/dist-packages (1.3.1)\n",
            "Requirement already satisfied: numpy in /usr/local/lib/python3.6/dist-packages (from torch) (1.17.4)\n"
          ],
          "name": "stdout"
        }
      ]
    },
    {
      "cell_type": "code",
      "metadata": {
        "id": "5WIovTx3YMM3",
        "colab_type": "code",
        "colab": {}
      },
      "source": [
        "import numpy as np\n",
        "import pandas as pd\n",
        "import matplotlib.pyplot as plt\n",
        "import torch\n",
        "from torch.autograd import Variable"
      ],
      "execution_count": 0,
      "outputs": []
    },
    {
      "cell_type": "code",
      "metadata": {
        "id": "qUWB9cBJGfpy",
        "colab_type": "code",
        "outputId": "a4336d14-4da2-4d46-bb78-dd9b31964c23",
        "colab": {
          "base_uri": "https://localhost:8080/",
          "height": 204
        }
      },
      "source": [
        "#Create the training data\n",
        "no = [1,2,3,4,5,6,7,8,9,10,11,12,13,14,15,16,17,18,19,20]\n",
        "area = [3400,4500,6500,7700,6600,3500,4300,3700,8700,9000,9100,9200,8200,8800,8400,8300,7900,7400,7100,6400]\n",
        "price = [1500,2300,2777,3567,2799,1633,2111,1700,4333,4500,4551,4560,4200,4304,4000,4230,3700,3300,3000,2600]\n",
        "data = pd.DataFrame({'No':no,'Area':area,'Price':price})\n",
        "\n",
        "data.head()"
      ],
      "execution_count": 11,
      "outputs": [
        {
          "output_type": "execute_result",
          "data": {
            "text/html": [
              "<div>\n",
              "<style scoped>\n",
              "    .dataframe tbody tr th:only-of-type {\n",
              "        vertical-align: middle;\n",
              "    }\n",
              "\n",
              "    .dataframe tbody tr th {\n",
              "        vertical-align: top;\n",
              "    }\n",
              "\n",
              "    .dataframe thead th {\n",
              "        text-align: right;\n",
              "    }\n",
              "</style>\n",
              "<table border=\"1\" class=\"dataframe\">\n",
              "  <thead>\n",
              "    <tr style=\"text-align: right;\">\n",
              "      <th></th>\n",
              "      <th>No</th>\n",
              "      <th>Area</th>\n",
              "      <th>Price</th>\n",
              "    </tr>\n",
              "  </thead>\n",
              "  <tbody>\n",
              "    <tr>\n",
              "      <th>0</th>\n",
              "      <td>1</td>\n",
              "      <td>3400</td>\n",
              "      <td>1500</td>\n",
              "    </tr>\n",
              "    <tr>\n",
              "      <th>1</th>\n",
              "      <td>2</td>\n",
              "      <td>4500</td>\n",
              "      <td>2300</td>\n",
              "    </tr>\n",
              "    <tr>\n",
              "      <th>2</th>\n",
              "      <td>3</td>\n",
              "      <td>6500</td>\n",
              "      <td>2777</td>\n",
              "    </tr>\n",
              "    <tr>\n",
              "      <th>3</th>\n",
              "      <td>4</td>\n",
              "      <td>7700</td>\n",
              "      <td>3567</td>\n",
              "    </tr>\n",
              "    <tr>\n",
              "      <th>4</th>\n",
              "      <td>5</td>\n",
              "      <td>6600</td>\n",
              "      <td>2799</td>\n",
              "    </tr>\n",
              "  </tbody>\n",
              "</table>\n",
              "</div>"
            ],
            "text/plain": [
              "   No  Area  Price\n",
              "0   1  3400   1500\n",
              "1   2  4500   2300\n",
              "2   3  6500   2777\n",
              "3   4  7700   3567\n",
              "4   5  6600   2799"
            ]
          },
          "metadata": {
            "tags": []
          },
          "execution_count": 11
        }
      ]
    },
    {
      "cell_type": "code",
      "metadata": {
        "id": "4yY6p6XgVaK4",
        "colab_type": "code",
        "outputId": "9d0667fd-25d7-41d6-bee8-d601bc1b09d5",
        "colab": {
          "base_uri": "https://localhost:8080/",
          "height": 142
        }
      },
      "source": [
        "#create the test data\n",
        "index = [1,2,3]\n",
        "area_size = [1200, 1350, 5400]\n",
        "area_value = [571, 643, 2570]\n",
        "test_data = pd.DataFrame({'No':index, 'Area': area_size, 'Expected Value': area_value})\n",
        "\n",
        "test_data.head()"
      ],
      "execution_count": 12,
      "outputs": [
        {
          "output_type": "execute_result",
          "data": {
            "text/html": [
              "<div>\n",
              "<style scoped>\n",
              "    .dataframe tbody tr th:only-of-type {\n",
              "        vertical-align: middle;\n",
              "    }\n",
              "\n",
              "    .dataframe tbody tr th {\n",
              "        vertical-align: top;\n",
              "    }\n",
              "\n",
              "    .dataframe thead th {\n",
              "        text-align: right;\n",
              "    }\n",
              "</style>\n",
              "<table border=\"1\" class=\"dataframe\">\n",
              "  <thead>\n",
              "    <tr style=\"text-align: right;\">\n",
              "      <th></th>\n",
              "      <th>No</th>\n",
              "      <th>Area</th>\n",
              "      <th>Expected Value</th>\n",
              "    </tr>\n",
              "  </thead>\n",
              "  <tbody>\n",
              "    <tr>\n",
              "      <th>0</th>\n",
              "      <td>1</td>\n",
              "      <td>1200</td>\n",
              "      <td>571</td>\n",
              "    </tr>\n",
              "    <tr>\n",
              "      <th>1</th>\n",
              "      <td>2</td>\n",
              "      <td>1350</td>\n",
              "      <td>643</td>\n",
              "    </tr>\n",
              "    <tr>\n",
              "      <th>2</th>\n",
              "      <td>3</td>\n",
              "      <td>5400</td>\n",
              "      <td>2570</td>\n",
              "    </tr>\n",
              "  </tbody>\n",
              "</table>\n",
              "</div>"
            ],
            "text/plain": [
              "   No  Area  Expected Value\n",
              "0   1  1200             571\n",
              "1   2  1350             643\n",
              "2   3  5400            2570"
            ]
          },
          "metadata": {
            "tags": []
          },
          "execution_count": 12
        }
      ]
    },
    {
      "cell_type": "code",
      "metadata": {
        "id": "9hU45su4lg1-",
        "colab_type": "code",
        "outputId": "b1172a3b-8823-4147-9cbf-4e12cc057c03",
        "colab": {
          "base_uri": "https://localhost:8080/",
          "height": 312
        }
      },
      "source": [
        "#convert the data into a numpy array\n",
        "data = np.array(data,dtype=np.float32)\n",
        "x_train = data[: ,1:2]\n",
        "y_train = data[: ,2:3]\n",
        "\n",
        "test_data = np.array(test_data,dtype=np.float32)\n",
        "x_test = test_data[:,1:2]\n",
        "y_test = test_data[:, 2:3]\n",
        "\n",
        "#visualize the data using a scatter plot\n",
        "plt.plot(x_train, y_train, 'bo')\n",
        "plt.xlabel(\"Price ($) of land\")\n",
        "plt.ylabel(\"Size of Land\")\n",
        "plt.title(\"Land purchase trends\")\n",
        "plt"
      ],
      "execution_count": 13,
      "outputs": [
        {
          "output_type": "execute_result",
          "data": {
            "text/plain": [
              "<module 'matplotlib.pyplot' from '/usr/local/lib/python3.6/dist-packages/matplotlib/pyplot.py'>"
            ]
          },
          "metadata": {
            "tags": []
          },
          "execution_count": 13
        },
        {
          "output_type": "display_data",
          "data": {
            "image/png": "[encoded data removed]",
            "text/plain": [
              "<Figure size 432x288 with 1 Axes>"
            ]
          },
          "metadata": {
            "tags": []
          }
        }
      ]
    },
    {
      "cell_type": "code",
      "metadata": {
        "id": "UuUUefDllm6b",
        "colab_type": "code",
        "colab": {}
      },
      "source": [
        "class LinReg(torch.nn.Module):\n",
        "    def __init__(self, input_size, output_size):\n",
        "        super(LinReg, self).__init__()\n",
        "        self.linear = torch.nn.Linear(input_size, output_size)\n",
        "\n",
        "    def forward(self, x):\n",
        "        out = self.linear(x)\n",
        "        return out"
      ],
      "execution_count": 0,
      "outputs": []
    },
    {
      "cell_type": "code",
      "metadata": {
        "id": "UgYy3R2QoyqQ",
        "colab_type": "code",
        "colab": {}
      },
      "source": [
        "#define input/output dimensions, learning rate and the no. of epochs to run\n",
        "input_dimension = 1        \n",
        "output_dimension = 1\n",
        "learn_rate =0.000000001 \n",
        "epochs = 100\n",
        "\n",
        "model = LinReg(input_dimension, output_dimension)\n",
        "##### For GPU #######\n",
        "if torch.cuda.is_available():\n",
        "    model.cuda()"
      ],
      "execution_count": 0,
      "outputs": []
    },
    {
      "cell_type": "code",
      "metadata": {
        "id": "RR378ctzo6Xl",
        "colab_type": "code",
        "colab": {}
      },
      "source": [
        "criterion = torch.nn.MSELoss() \n",
        "optimizer = torch.optim.SGD(model.parameters(), lr=learn_rate)"
      ],
      "execution_count": 0,
      "outputs": []
    },
    {
      "cell_type": "code",
      "metadata": {
        "id": "_Q5-x1qWpCz8",
        "colab_type": "code",
        "outputId": "51207a02-9406-425b-959f-13b9d586b01f",
        "colab": {
          "base_uri": "https://localhost:8080/",
          "height": 477
        }
      },
      "source": [
        "losses=[]\n",
        "for epoch in range(epochs):\n",
        "    # Convert the inputs and labels to Variables\n",
        "    if torch.cuda.is_available():\n",
        "        inputs = Variable(torch.from_numpy(x_train).cuda())\n",
        "        labels = Variable(torch.from_numpy(y_train).cuda())\n",
        "    else:\n",
        "        inputs = Variable(torch.from_numpy(x_train))\n",
        "        labels = Variable(torch.from_numpy(y_train))\n",
        "\n",
        "    # Clear gradient buffers in order to avoid cumulation of gradients\n",
        "    optimizer.zero_grad()\n",
        "\n",
        "    # get output from the model\n",
        "    outputs = model(inputs)\n",
        "\n",
        "    # get the loss for the predicted output\n",
        "    loss = criterion(outputs, labels)\n",
        "    # get the gradients\n",
        "    loss.backward()\n",
        "    # update parameters\n",
        "    optimizer.step()\n",
        "    losses.append(loss.data)\n",
        "    if(epoch%10==0):\n",
        "        print('epoch {}, loss {}'.format(epoch, loss.data))\n",
        "plt.plot(range(epochs),losses)\n",
        "plt.xlabel(\"Number of Iterations\")\n",
        "plt.ylabel(\"Loss\")\n",
        "plt"
      ],
      "execution_count": 17,
      "outputs": [
        {
          "output_type": "stream",
          "text": [
            "epoch 0, loss 12977309.0\n",
            "epoch 10, loss 1494340.125\n",
            "epoch 20, loss 211986.53125\n",
            "epoch 30, loss 68780.484375\n",
            "epoch 40, loss 52788.125\n",
            "epoch 50, loss 51002.1953125\n",
            "epoch 60, loss 50802.765625\n",
            "epoch 70, loss 50780.47265625\n",
            "epoch 80, loss 50777.9921875\n",
            "epoch 90, loss 50777.71875\n"
          ],
          "name": "stdout"
        },
        {
          "output_type": "execute_result",
          "data": {
            "text/plain": [
              "<module 'matplotlib.pyplot' from '/usr/local/lib/python3.6/dist-packages/matplotlib/pyplot.py'>"
            ]
          },
          "metadata": {
            "tags": []
          },
          "execution_count": 17
        },
        {
          "output_type": "display_data",
          "data": {
            "image/png": "[encoded data removed]",
            "text/plain": [
              "<Figure size 432x288 with 1 Axes>"
            ]
          },
          "metadata": {
            "tags": []
          }
        }
      ]
    },
    {
      "cell_type": "code",
      "metadata": {
        "id": "mIKNdJYSpF38",
        "colab_type": "code",
        "outputId": "613c6266-1a8a-4ab5-cfb2-71946e9c9e80",
        "colab": {
          "base_uri": "https://localhost:8080/",
          "height": 605
        }
      },
      "source": [
        "with torch.no_grad(): \n",
        "    if torch.cuda.is_available():\n",
        "        predicted = model(Variable(torch.from_numpy(x_train).cuda())).cpu().data.numpy()\n",
        "    else:\n",
        "        predicted = model(Variable(torch.from_numpy(x_train))).data.numpy()\n",
        "    print(\"predicted=\",predicted)\n",
        "\n",
        "plt.clf()\n",
        "plt.plot(x_train, y_train, 'go', label='True data', alpha=0.5)\n",
        "plt.plot(x_train, predicted, '-', label='Predictions', alpha=0.5)\n",
        "plt.legend(loc='best')\n",
        "plt.show()"
      ],
      "execution_count": 18,
      "outputs": [
        {
          "output_type": "stream",
          "text": [
            "predicted= [[1620.4072]\n",
            " [2144.5337]\n",
            " [3097.491 ]\n",
            " [3669.2651]\n",
            " [3145.1387]\n",
            " [1668.055 ]\n",
            " [2049.238 ]\n",
            " [1763.3508]\n",
            " [4145.7437]\n",
            " [4288.6875]\n",
            " [4336.3354]\n",
            " [4383.983 ]\n",
            " [3907.5046]\n",
            " [4193.3916]\n",
            " [4002.8003]\n",
            " [3955.1523]\n",
            " [3764.561 ]\n",
            " [3526.3215]\n",
            " [3383.3782]\n",
            " [3049.843 ]]\n"
          ],
          "name": "stdout"
        },
        {
          "output_type": "display_data",
          "data": {
            "image/png": "[encoded data removed]",
            "text/plain": [
              "<Figure size 432x288 with 1 Axes>"
            ]
          },
          "metadata": {
            "tags": []
          }
        }
      ]
    },
    {
      "cell_type": "code",
      "metadata": {
        "id": "bwRn2Cbmazde",
        "colab_type": "code",
        "outputId": "d344bcc3-7582-4d8b-fe4f-ae80f47ff82d",
        "colab": {
          "base_uri": "https://localhost:8080/",
          "height": 316
        }
      },
      "source": [
        "with torch.no_grad(): # we don't need gradients in the testing phase\n",
        "    if torch.cuda.is_available():\n",
        "        predicted = model(Variable(torch.from_numpy(x_test).cuda())).cpu().data.numpy()\n",
        "    else:\n",
        "        predicted = model(Variable(torch.from_numpy(x_test))).data.numpy()\n",
        "    print(\"predicted=\",predicted)\n",
        "\n",
        "plt.clf()\n",
        "plt.plot(x_test, y_test, 'go', label='Test Data', alpha=0.5)\n",
        "plt.plot(x_test, predicted, '-', label='Predictions', alpha=0.5)\n",
        "plt.legend(loc='best')\n",
        "plt.show()"
      ],
      "execution_count": 19,
      "outputs": [
        {
          "output_type": "stream",
          "text": [
            "predicted= [[ 572.1543]\n",
            " [ 643.6261]\n",
            " [2573.3645]]\n"
          ],
          "name": "stdout"
        },
        {
          "output_type": "display_data",
          "data": {
            "image/png": "[encoded data removed]",
            "text/plain": [
              "<Figure size 432x288 with 1 Axes>"
            ]
          },
          "metadata": {
            "tags": []
          }
        }
      ]
    }
  ]
}